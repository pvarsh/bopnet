{
 "cells": [
  {
   "cell_type": "code",
   "execution_count": 15,
   "metadata": {},
   "outputs": [],
   "source": [
    "import os\n",
    "\n",
    "import numpy as np\n",
    "\n",
    "from keras import Sequential\n",
    "from keras.utils import to_categorical\n",
    "from keras.layers import LSTM, Dense, Dropout, Flatten, Activation\n",
    "\n",
    "from pyknon.genmidi import Midi\n",
    "from pyknon.music import NoteSeq, Note\n",
    "from music21 import midi, stream, converter, note, chord, instrument"
   ]
  },
  {
   "cell_type": "code",
   "execution_count": 2,
   "metadata": {},
   "outputs": [],
   "source": [
    "SEQUENCE_LENGTH = 5"
   ]
  },
  {
   "cell_type": "code",
   "execution_count": 17,
   "metadata": {},
   "outputs": [],
   "source": [
    "melody = [10, 10, 10, 10, 11, 13]\n",
    "\n",
    "def make_midi(notes, name, filepath):\n",
    "    notes = [Note(note) for note in notes]\n",
    "    midi = Midi(1, tempo=90)\n",
    "    midi.seq_notes(notes, track=0)\n",
    "    midi.write(filepath)\n",
    "    \n",
    "def play_midi(filepath):\n",
    "    mf = midi.MidiFile()\n",
    "    mf.open(filepath)\n",
    "    mf.read()\n",
    "    mf.close()\n",
    "    stream = midi.translate.midiFileToStream(mf)\n",
    "    stream.show('midi')\n",
    "\n",
    "def load_midi(filepath):\n",
    "    mf = midi.MidiFile()\n",
    "    mf.open(filepath)\n",
    "    mf.read()\n",
    "    mf.close()\n",
    "    return mf"
   ]
  },
  {
   "cell_type": "code",
   "execution_count": 4,
   "metadata": {},
   "outputs": [
    {
     "data": {
      "text/html": [
       "\n",
       "                <div id='midiPlayerDiv19042'></div>\n",
       "                <link rel=\"stylesheet\" href=\"//cuthbertLab.github.io/music21j/css/m21.css\"\n",
       "                    type=\"text/css\" />\n",
       "                <script>\n",
       "                require.config({\n",
       "                    paths: {'music21': '//cuthbertLab.github.io/music21j/src/music21'}\n",
       "                });\n",
       "                require(['music21'], function() {\n",
       "                               mp = new music21.miditools.MidiPlayer();\n",
       "                               mp.addPlayer('#midiPlayerDiv19042');\n",
       "                               mp.base64Load('data:audio/midi;base64,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');\n",
       "                        });\n",
       "                </script>"
      ],
      "text/plain": [
       "<IPython.core.display.HTML object>"
      ]
     },
     "metadata": {},
     "output_type": "display_data"
    }
   ],
   "source": [
    "play_midi('Omnibook/Midi/Anthropology.mid')"
   ]
  },
  {
   "cell_type": "code",
   "execution_count": 48,
   "metadata": {},
   "outputs": [],
   "source": [
    "anthro = load_midi('Omnibook/Midi/Anthropology.mid')"
   ]
  },
  {
   "cell_type": "code",
   "execution_count": 3,
   "metadata": {},
   "outputs": [],
   "source": [
    "def get_notes(songs):\n",
    "    # from https://towardsdatascience.com/how-to-generate-music-using-a-lstm-neural-network-in-keras-68786834d4c5\n",
    "    notes = []\n",
    "    for file in songs:\n",
    "        midi = converter.parse(file)\n",
    "        notes_to_parse = []\n",
    "        try:\n",
    "            parts = instrument.partitionByInstrument(midi)\n",
    "        except Exception as e:\n",
    "            print(e)\n",
    "        if parts:\n",
    "            notes_to_parse = parts.parts[0].recurse()\n",
    "        else:\n",
    "            notes_to_parse = midi.flat.notes\n",
    "        for element in notes_to_parse:\n",
    "            if isinstance(element, note.Note):\n",
    "                notes.append(str(element.pitch))\n",
    "    return notes"
   ]
  },
  {
   "cell_type": "code",
   "execution_count": 4,
   "metadata": {},
   "outputs": [],
   "source": [
    "songs = ['Omnibook/Midi/Anthropology.mid']\n",
    "notes = get_notes(songs)\n",
    "pitches = sorted(set(notes))\n",
    "vocab_size = len(pitches)\n",
    "pitch_indices = {pitch: idx for idx, pitch in enumerate(pitches)}\n",
    "pitch_reverse_indices = {value: key for key, value in pitch_indices.items()}\n",
    "pitch_sequence = [pitch_indices[note] for note in notes]"
   ]
  },
  {
   "cell_type": "code",
   "execution_count": 5,
   "metadata": {},
   "outputs": [],
   "source": [
    "def make_training_sequences(notes, sequence_length, vocab_size):\n",
    "    network_inputs = []\n",
    "    network_outputs = []\n",
    "    for i in range(len(notes) - sequence_length):\n",
    "        input_sequence = notes[i:i+sequence_length]\n",
    "        output_note = notes[i + sequence_length]\n",
    "        network_inputs.append(input_sequence)\n",
    "        network_outputs.append(output_note)\n",
    "    inputs = np.reshape(network_inputs, (len(network_inputs), sequence_length, 1))\n",
    "    inputs = inputs / vocab_size\n",
    "    outputs = to_categorical(network_outputs)\n",
    "    return inputs, outputs"
   ]
  },
  {
   "cell_type": "code",
   "execution_count": 6,
   "metadata": {},
   "outputs": [],
   "source": [
    "inputs, outputs = make_training_sequences(pitch_sequence, SEQUENCE_LENGTH, vocab_size)"
   ]
  },
  {
   "cell_type": "code",
   "execution_count": 22,
   "metadata": {},
   "outputs": [],
   "source": [
    "model = Sequential()  \n",
    "model.add(LSTM(128, input_shape=inputs.shape[1:], return_sequences=True))  \n",
    "model.add(Dropout(0.5))  \n",
    "model.add(LSTM(128, return_sequences=True))  \n",
    "model.add(Flatten())  \n",
    "model.add(Dense(256))  \n",
    "model.add(Dropout(0.5))  \n",
    "model.add(Dense(vocab_size))  \n",
    "model.add(Activation('softmax'))  \n",
    "model.compile(loss='categorical_crossentropy', optimizer='adam')  "
   ]
  },
  {
   "cell_type": "code",
   "execution_count": 24,
   "metadata": {},
   "outputs": [
    {
     "name": "stdout",
     "output_type": "stream",
     "text": [
      "Epoch 1/100\n",
      "758/758 [==============================] - 1s 1ms/step - loss: 2.7903\n",
      "Epoch 2/100\n",
      "758/758 [==============================] - 1s 939us/step - loss: 2.7791\n",
      "Epoch 3/100\n",
      "758/758 [==============================] - 0s 652us/step - loss: 2.7688\n",
      "Epoch 4/100\n",
      "758/758 [==============================] - 0s 604us/step - loss: 2.7779\n",
      "Epoch 5/100\n",
      "758/758 [==============================] - 1s 769us/step - loss: 2.7581\n",
      "Epoch 6/100\n",
      "758/758 [==============================] - 1s 931us/step - loss: 2.7548\n",
      "Epoch 7/100\n",
      "758/758 [==============================] - 1s 821us/step - loss: 2.7374\n",
      "Epoch 8/100\n",
      "758/758 [==============================] - 1s 944us/step - loss: 2.7309\n",
      "Epoch 9/100\n",
      "758/758 [==============================] - 1s 1ms/step - loss: 2.7187\n",
      "Epoch 10/100\n",
      "758/758 [==============================] - 1s 770us/step - loss: 2.7196\n",
      "Epoch 11/100\n",
      "758/758 [==============================] - 1s 1ms/step - loss: 2.6815\n",
      "Epoch 12/100\n",
      "758/758 [==============================] - 1s 1ms/step - loss: 2.6755\n",
      "Epoch 13/100\n",
      "758/758 [==============================] - 1s 1ms/step - loss: 2.6921\n",
      "Epoch 14/100\n",
      "758/758 [==============================] - 1s 955us/step - loss: 2.6644\n",
      "Epoch 15/100\n",
      "758/758 [==============================] - 0s 636us/step - loss: 2.6609\n",
      "Epoch 16/100\n",
      "758/758 [==============================] - 1s 689us/step - loss: 2.6322\n",
      "Epoch 17/100\n",
      "758/758 [==============================] - 0s 638us/step - loss: 2.6207\n",
      "Epoch 18/100\n",
      "758/758 [==============================] - 1s 695us/step - loss: 2.6377\n",
      "Epoch 19/100\n",
      "758/758 [==============================] - 0s 622us/step - loss: 2.6183\n",
      "Epoch 20/100\n",
      "758/758 [==============================] - 1s 726us/step - loss: 2.6154\n",
      "Epoch 21/100\n",
      "758/758 [==============================] - 0s 632us/step - loss: 2.5361\n",
      "Epoch 22/100\n",
      "758/758 [==============================] - 1s 839us/step - loss: 2.5874\n",
      "Epoch 23/100\n",
      "758/758 [==============================] - 1s 711us/step - loss: 2.5685\n",
      "Epoch 24/100\n",
      "758/758 [==============================] - 0s 649us/step - loss: 2.5275\n",
      "Epoch 25/100\n",
      "758/758 [==============================] - 1s 691us/step - loss: 2.5040\n",
      "Epoch 26/100\n",
      "758/758 [==============================] - 0s 653us/step - loss: 2.4954\n",
      "Epoch 27/100\n",
      "758/758 [==============================] - 1s 704us/step - loss: 2.4914\n",
      "Epoch 28/100\n",
      "758/758 [==============================] - 0s 639us/step - loss: 2.4645\n",
      "Epoch 29/100\n",
      "758/758 [==============================] - 1s 686us/step - loss: 2.4702\n",
      "Epoch 30/100\n",
      "758/758 [==============================] - 0s 649us/step - loss: 2.4366\n",
      "Epoch 31/100\n",
      "758/758 [==============================] - 1s 705us/step - loss: 2.4245\n",
      "Epoch 32/100\n",
      "758/758 [==============================] - 0s 638us/step - loss: 2.4075\n",
      "Epoch 33/100\n",
      "758/758 [==============================] - 1s 700us/step - loss: 2.3787\n",
      "Epoch 34/100\n",
      "758/758 [==============================] - 0s 636us/step - loss: 2.3636\n",
      "Epoch 35/100\n",
      "758/758 [==============================] - 1s 701us/step - loss: 2.3482\n",
      "Epoch 36/100\n",
      "758/758 [==============================] - 0s 645us/step - loss: 2.3298\n",
      "Epoch 37/100\n",
      "758/758 [==============================] - 1s 695us/step - loss: 2.3366\n",
      "Epoch 38/100\n",
      "758/758 [==============================] - 1s 662us/step - loss: 2.3572\n",
      "Epoch 39/100\n",
      "758/758 [==============================] - 1s 719us/step - loss: 2.2715\n",
      "Epoch 40/100\n",
      "758/758 [==============================] - 0s 636us/step - loss: 2.2408\n",
      "Epoch 41/100\n",
      "758/758 [==============================] - 1s 683us/step - loss: 2.2741\n",
      "Epoch 42/100\n",
      "758/758 [==============================] - 0s 625us/step - loss: 2.2010\n",
      "Epoch 43/100\n",
      "758/758 [==============================] - 1s 705us/step - loss: 2.2360\n",
      "Epoch 44/100\n",
      "758/758 [==============================] - 0s 639us/step - loss: 2.1619\n",
      "Epoch 45/100\n",
      "758/758 [==============================] - 1s 716us/step - loss: 2.1862\n",
      "Epoch 46/100\n",
      "758/758 [==============================] - 0s 636us/step - loss: 2.1525\n",
      "Epoch 47/100\n",
      "758/758 [==============================] - 1s 695us/step - loss: 2.1629\n",
      "Epoch 48/100\n",
      "758/758 [==============================] - 0s 632us/step - loss: 2.0983\n",
      "Epoch 49/100\n",
      "758/758 [==============================] - 1s 706us/step - loss: 2.1176\n",
      "Epoch 50/100\n",
      "758/758 [==============================] - 0s 625us/step - loss: 2.0772\n",
      "Epoch 51/100\n",
      "758/758 [==============================] - 1s 732us/step - loss: 2.0672\n",
      "Epoch 52/100\n",
      "758/758 [==============================] - 0s 631us/step - loss: 2.0435\n",
      "Epoch 53/100\n",
      "758/758 [==============================] - 1s 709us/step - loss: 2.0074\n",
      "Epoch 54/100\n",
      "758/758 [==============================] - 1s 860us/step - loss: 2.0121\n",
      "Epoch 55/100\n",
      "758/758 [==============================] - 1s 686us/step - loss: 2.0182\n",
      "Epoch 56/100\n",
      "758/758 [==============================] - 1s 671us/step - loss: 1.9288\n",
      "Epoch 57/100\n",
      "758/758 [==============================] - 0s 641us/step - loss: 1.9268\n",
      "Epoch 58/100\n",
      "758/758 [==============================] - 1s 686us/step - loss: 1.8898\n",
      "Epoch 59/100\n",
      "758/758 [==============================] - 0s 641us/step - loss: 1.9153\n",
      "Epoch 60/100\n",
      "758/758 [==============================] - 1s 671us/step - loss: 1.8793\n",
      "Epoch 61/100\n",
      "758/758 [==============================] - 0s 648us/step - loss: 1.8555\n",
      "Epoch 62/100\n",
      "758/758 [==============================] - 0s 658us/step - loss: 1.8762\n",
      "Epoch 63/100\n",
      "758/758 [==============================] - 0s 641us/step - loss: 1.7821\n",
      "Epoch 64/100\n",
      "758/758 [==============================] - 1s 678us/step - loss: 1.7890\n",
      "Epoch 65/100\n",
      "758/758 [==============================] - 0s 654us/step - loss: 1.7883\n",
      "Epoch 66/100\n",
      "758/758 [==============================] - 1s 668us/step - loss: 1.7567\n",
      "Epoch 67/100\n",
      "758/758 [==============================] - 0s 650us/step - loss: 1.7449\n",
      "Epoch 68/100\n",
      "758/758 [==============================] - 1s 688us/step - loss: 1.7927\n",
      "Epoch 69/100\n",
      "758/758 [==============================] - 0s 649us/step - loss: 1.6841\n",
      "Epoch 70/100\n",
      "758/758 [==============================] - 1s 674us/step - loss: 1.7079\n",
      "Epoch 71/100\n",
      "758/758 [==============================] - 0s 643us/step - loss: 1.6746\n",
      "Epoch 72/100\n",
      "758/758 [==============================] - 1s 670us/step - loss: 1.6380\n",
      "Epoch 73/100\n",
      "758/758 [==============================] - 0s 654us/step - loss: 1.6854\n",
      "Epoch 74/100\n",
      "758/758 [==============================] - 1s 680us/step - loss: 1.5858\n",
      "Epoch 75/100\n",
      "758/758 [==============================] - 0s 655us/step - loss: 1.6236\n",
      "Epoch 76/100\n",
      "758/758 [==============================] - 1s 688us/step - loss: 1.5143\n",
      "Epoch 77/100\n",
      "758/758 [==============================] - 1s 671us/step - loss: 1.5922\n",
      "Epoch 78/100\n",
      "758/758 [==============================] - 1s 680us/step - loss: 1.5264\n",
      "Epoch 79/100\n",
      "758/758 [==============================] - 0s 631us/step - loss: 1.5192\n",
      "Epoch 80/100\n",
      "758/758 [==============================] - 1s 672us/step - loss: 1.5603\n",
      "Epoch 81/100\n",
      "758/758 [==============================] - 0s 638us/step - loss: 1.4960\n",
      "Epoch 82/100\n",
      "758/758 [==============================] - 1s 678us/step - loss: 1.4796\n",
      "Epoch 83/100\n",
      "758/758 [==============================] - 0s 636us/step - loss: 1.4166\n",
      "Epoch 84/100\n",
      "758/758 [==============================] - 1s 671us/step - loss: 1.4361\n",
      "Epoch 85/100\n",
      "758/758 [==============================] - 0s 650us/step - loss: 1.4188\n",
      "Epoch 86/100\n",
      "758/758 [==============================] - 1s 675us/step - loss: 1.3510\n",
      "Epoch 87/100\n",
      "758/758 [==============================] - 0s 636us/step - loss: 1.3568\n",
      "Epoch 88/100\n",
      "758/758 [==============================] - 1s 685us/step - loss: 1.3820\n",
      "Epoch 89/100\n",
      "758/758 [==============================] - 0s 631us/step - loss: 1.3475\n",
      "Epoch 90/100\n",
      "758/758 [==============================] - 1s 682us/step - loss: 1.3346\n",
      "Epoch 91/100\n",
      "758/758 [==============================] - 1s 662us/step - loss: 1.3282\n",
      "Epoch 92/100\n",
      "758/758 [==============================] - 1s 670us/step - loss: 1.3282\n",
      "Epoch 93/100\n",
      "758/758 [==============================] - 0s 634us/step - loss: 1.2712\n",
      "Epoch 94/100\n",
      "758/758 [==============================] - 1s 676us/step - loss: 1.2140\n",
      "Epoch 95/100\n",
      "758/758 [==============================] - 0s 639us/step - loss: 1.2825\n",
      "Epoch 96/100\n",
      "758/758 [==============================] - 1s 678us/step - loss: 1.2881\n",
      "Epoch 97/100\n"
     ]
    },
    {
     "name": "stdout",
     "output_type": "stream",
     "text": [
      "758/758 [==============================] - 1s 681us/step - loss: 1.2748\n",
      "Epoch 98/100\n",
      "758/758 [==============================] - 1s 691us/step - loss: 1.1814\n",
      "Epoch 99/100\n",
      "758/758 [==============================] - 0s 632us/step - loss: 1.1429\n",
      "Epoch 100/100\n",
      "758/758 [==============================] - 1s 681us/step - loss: 1.1986\n"
     ]
    },
    {
     "data": {
      "text/plain": [
       "<keras.callbacks.History at 0x1254dc9b0>"
      ]
     },
     "execution_count": 24,
     "metadata": {},
     "output_type": "execute_result"
    }
   ],
   "source": [
    "model.fit(inputs, outputs, epochs=100, batch_size=32)"
   ]
  },
  {
   "cell_type": "code",
   "execution_count": 10,
   "metadata": {},
   "outputs": [],
   "source": [
    "def convert_to_notes(solo):\n",
    "    offset = 0\n",
    "    output_notes = []\n",
    "    # create note and chord objects based on the values generated by the model\n",
    "    for pattern in solo:\n",
    "        new_note = note.Note(pattern)\n",
    "        new_note.offset = offset\n",
    "        new_note.storedInstrument = instrument.Piano()\n",
    "        output_notes.append(new_note)\n",
    "        # increase offset each iteration so that notes do not stack\n",
    "        offset += 0.5\n",
    "    return output_notes"
   ]
  },
  {
   "cell_type": "code",
   "execution_count": 11,
   "metadata": {},
   "outputs": [],
   "source": [
    "def improvise(model, start_input, index_to_pitch, vocab_size, sequence_length, solo_length):\n",
    "    solo = []\n",
    "    solo.extend(start_input)\n",
    "    \n",
    "    for _ in range(solo_length):\n",
    "        network_input = np.reshape(solo[-sequence_length:], (1, sequence_length, 1))\n",
    "        network_input = network_input / vocab_size\n",
    "        prediction = model.predict(network_input, verbose=False)\n",
    "        prediction_note_index = np.argmax(prediction)\n",
    "        solo.append(prediction_note_index)\n",
    "\n",
    "    solo = [index_to_pitch[ind] for ind in solo]\n",
    "    return solo  "
   ]
  },
  {
   "cell_type": "code",
   "execution_count": 13,
   "metadata": {},
   "outputs": [],
   "source": [
    "def get_first_phrase(filename=None, sequence_length=SEQUENCE_LENGTH):\n",
    "    songs_dir = 'Omnibook/Midi'\n",
    "    if filename:\n",
    "        song_filepath = os.path.join(songs_dir, filename)\n",
    "        song_notes = get_notes([song_filepath])[:sequence_length]\n",
    "        first_phrase = [pitch_indices[note] for note in song_notes]\n",
    "        return filename, first_phrase\n",
    "    \n",
    "    song_filenames = os.listdir('Omnibook/Midi/')\n",
    "    for filename in song_filenames:\n",
    "        song_filepath = os.path.join(songs_dir, filename)\n",
    "        song_notes = get_notes([song_filepath])[:sequence_length]\n",
    "        try:\n",
    "            first_phrase = [pitch_indices[note] for note in song_notes]\n",
    "            return filename, first_phrase\n",
    "        except Exception:\n",
    "            pass"
   ]
  },
  {
   "cell_type": "code",
   "execution_count": 25,
   "metadata": {},
   "outputs": [
    {
     "data": {
      "text/html": [
       "\n",
       "                <div id='midiPlayerDiv11740'></div>\n",
       "                <link rel=\"stylesheet\" href=\"//cuthbertLab.github.io/music21j/css/m21.css\"\n",
       "                    type=\"text/css\" />\n",
       "                <script>\n",
       "                require.config({\n",
       "                    paths: {'music21': '//cuthbertLab.github.io/music21j/src/music21'}\n",
       "                });\n",
       "                require(['music21'], function() {\n",
       "                               mp = new music21.miditools.MidiPlayer();\n",
       "                               mp.addPlayer('#midiPlayerDiv11740');\n",
       "                               mp.base64Load('data:audio/midi;base64,TVRoZAAAAAYAAQABBABNVHJrAAAB/QD/AwAA4ABAAJBIWoQAkENahACASAAAkEVahACAQwAAkEZahACARQAAkERahACARgAAkD5ahACARAAAkDxahACAPgAAkEZahACAPAAAkEhahACARgAAkEZahACASAAAkEVahACARgAAkENahACARQAAkD5ahACAQwAAkD9ahACAPgAAkEFahACAPwAAkENahACAQQAAkERahACAQwAAkENahACARAAAkEFahACAQwAAkD9ahACAQQAAkD5ahACAPwAAkEZahACAPgAAkEJahACARgAAkD9ahACAQgAAkDxahACAPwAAkEVahACAPAAAkENahACARQAAkD9ahACAQwAAkDlahACAPwAAkDpahACAOQAAkD9ahACAOgAAkEFahACAPwAAkDpahACAQQAAkEZahACAOgAAkEdahACARgAAkEFahACARwAAkDpahACAQQAAkD5ahACAOgAAkD9ahACAPgAAkEZahACAPwAAkDlahACARgAAkDtahACAOQAAkEVahACAOwAAkEVahACARQAAkENahACARQAAkEFahACAQwAAkEBahACAQQAAkENahACAQAAAkEZahACAQwAAkEpahACARgAAkElahACASgAAkEhahACASQAAkEdahACASAAAkEZahACARwAAkEVahACARgCEAIBFAIgA/y8A');\n",
       "                        });\n",
       "                </script>"
      ],
      "text/plain": [
       "<IPython.core.display.HTML object>"
      ]
     },
     "metadata": {},
     "output_type": "display_data"
    }
   ],
   "source": [
    "filename, start = get_first_phrase(filename='Yardbird_Suite.mid', sequence_length=SEQUENCE_LENGTH)\n",
    "solo = improvise(\n",
    "    model,\n",
    "    start,\n",
    "    index_to_pitch=pitch_reverse_indices,\n",
    "    vocab_size=vocab_size,\n",
    "    sequence_length=SEQUENCE_LENGTH,\n",
    "    solo_length=50,\n",
    ")\n",
    "solo_notes = convert_to_notes(solo)\n",
    "midi_stream = stream.Stream(solo_notes)\n",
    "midi_stream.show('midi')\n"
   ]
  },
  {
   "cell_type": "code",
   "execution_count": 31,
   "metadata": {},
   "outputs": [
    {
     "data": {
      "text/plain": [
       "'bebop1.mid'"
      ]
     },
     "execution_count": 31,
     "metadata": {},
     "output_type": "execute_result"
    }
   ],
   "source": [
    "midi_stream.write('midi', 'bebop1.mid')"
   ]
  },
  {
   "cell_type": "code",
   "execution_count": 18,
   "metadata": {},
   "outputs": [
    {
     "data": {
      "text/html": [
       "\n",
       "                <div id='midiPlayerDiv7091'></div>\n",
       "                <link rel=\"stylesheet\" href=\"//cuthbertLab.github.io/music21j/css/m21.css\"\n",
       "                    type=\"text/css\" />\n",
       "                <script>\n",
       "                require.config({\n",
       "                    paths: {'music21': '//cuthbertLab.github.io/music21j/src/music21'}\n",
       "                });\n",
       "                require(['music21'], function() {\n",
       "                               mp = new music21.miditools.MidiPlayer();\n",
       "                               mp.addPlayer('#midiPlayerDiv7091');\n",
       "                               mp.base64Load('data:audio/midi;base64,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');\n",
       "                        });\n",
       "                </script>"
      ],
      "text/plain": [
       "<IPython.core.display.HTML object>"
      ]
     },
     "metadata": {},
     "output_type": "display_data"
    }
   ],
   "source": [
    "play_midi('Omnibook/Midi/Yardbird_Suite.mid')"
   ]
  },
  {
   "cell_type": "code",
   "execution_count": 34,
   "metadata": {},
   "outputs": [
    {
     "data": {
      "text/plain": [
       "'/Users/petervarshavsky/Documents/projects/bopnet'"
      ]
     },
     "execution_count": 34,
     "metadata": {},
     "output_type": "execute_result"
    }
   ],
   "source": [
    "pwd"
   ]
  },
  {
   "cell_type": "code",
   "execution_count": null,
   "metadata": {},
   "outputs": [],
   "source": []
  }
 ],
 "metadata": {
  "kernelspec": {
   "display_name": "Python 3",
   "language": "python",
   "name": "python3"
  },
  "language_info": {
   "codemirror_mode": {
    "name": "ipython",
    "version": 3
   },
   "file_extension": ".py",
   "mimetype": "text/x-python",
   "name": "python",
   "nbconvert_exporter": "python",
   "pygments_lexer": "ipython3",
   "version": "3.6.3"
  }
 },
 "nbformat": 4,
 "nbformat_minor": 2
}
